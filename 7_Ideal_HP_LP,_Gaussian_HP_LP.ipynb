{
  "nbformat": 4,
  "nbformat_minor": 0,
  "metadata": {
    "colab": {
      "provenance": []
    },
    "kernelspec": {
      "name": "python3",
      "display_name": "Python 3"
    },
    "language_info": {
      "name": "python"
    }
  },
  "cells": [
    {
      "cell_type": "code",
      "execution_count": 1,
      "metadata": {
        "id": "_LXLJ6eylFO4"
      },
      "outputs": [],
      "source": [
        "import cv2\n",
        "from google.colab.patches import cv2_imshow\n",
        "import matplotlib.pyplot as plt\n",
        "import numpy as np\n",
        "import matplotlib.pyplot as plt\n",
        "import seaborn as sns\n",
        "import matplotlib.image as img\n",
        "import keras\n",
        "import math"
      ]
    },
    {
      "cell_type": "code",
      "source": [
        "from keras.datasets import mnist\n",
        "(x_train, y_train),(x_test, y_test) = keras.datasets.mnist.load_data()\n",
        "idx=np.random.randint(0,60000)\n",
        "image=x_train[idx]\n",
        "plt.imshow(image, cmap='gray')"
      ],
      "metadata": {
        "colab": {
          "base_uri": "https://localhost:8080/",
          "height": 484
        },
        "id": "gMIbhD_Yl4Xv",
        "outputId": "0a2ab19f-020c-42ec-e4f5-37ed5bae62b1"
      },
      "execution_count": 2,
      "outputs": [
        {
          "output_type": "stream",
          "name": "stdout",
          "text": [
            "Downloading data from https://storage.googleapis.com/tensorflow/tf-keras-datasets/mnist.npz\n",
            "11490434/11490434 [==============================] - 1s 0us/step\n"
          ]
        },
        {
          "output_type": "execute_result",
          "data": {
            "text/plain": [
              "<matplotlib.image.AxesImage at 0x7a0e732ea500>"
            ]
          },
          "metadata": {},
          "execution_count": 2
        },
        {
          "output_type": "display_data",
          "data": {
            "text/plain": [
              "<Figure size 640x480 with 1 Axes>"
            ],
            "image/png": "[encoded data removed]"
          },
          "metadata": {}
        }
      ]
    },
    {
      "cell_type": "code",
      "source": [
        "def center_img(image):\n",
        "    new_image=np.zeros(image.shape)\n",
        "    for i in range(image.shape[0]):\n",
        "        for j in range(image.shape[1]):\n",
        "            new_image[i,j]=math.pow(-1,(i+j))*image[i,j]\n",
        "    return new_image\n",
        "\n",
        "def fft(image):\n",
        "  return np.fft.fft2(image)\n",
        "\n",
        "def invfft(image):\n",
        "  return np.fft.ifft2(image)\n"
      ],
      "metadata": {
        "id": "-_Dhnpi8mlZ0"
      },
      "execution_count": 7,
      "outputs": []
    },
    {
      "cell_type": "code",
      "source": [
        "#ideal low pass\n",
        "def ideal_lp_filter(image,t):\n",
        "    s1=center_img(image)\n",
        "    s2=np.fft.fft(s1)\n",
        "    huv=np.zeros(s2.shape)\n",
        "    for i in range(s2.shape[0]):\n",
        "        for j in range(s2.shape[1]):\n",
        "            huv[i,j]=(math.sqrt(math.pow((i-(s2.shape[0]/2)),2)+math.pow((j-(s2.shape[1]/2)),2))<=t)\n",
        "    s3=s2*huv\n",
        "    s4=np.fft.ifft(s3).real\n",
        "    s5=center_img(s4)\n",
        "    return s5\n",
        "\n",
        "#gaussian low pass\n",
        "def gauss_lp_filter(image,t):\n",
        "    s1=center_img(image)\n",
        "    s2=np.fft.fft(s1)\n",
        "    huv=np.zeros(s2.shape)\n",
        "    for i in range(s2.shape[0]):\n",
        "        for j in range(s2.shape[1]):\n",
        "            huv[i,j]=np.exp(-2*(math.pow((i-(s2.shape[0]/2)),2)+math.pow((j-(s2.shape[1]/2)),2))/(math.pow(t,2)))\n",
        "    s3=s2*huv\n",
        "    s4=np.fft.ifft(s3)\n",
        "    s5=np.array([elem.real for elem in np.fft.ifft(s3)]).reshape(s4.shape)\n",
        "    s6=center_img(s5)\n",
        "    return s6\n",
        "\n",
        "g_lp_filter_img = gauss_lp_filter(image, 10)\n",
        "ideal_lp_filter_img=ideal_lp_filter(image, 10)\n",
        "\n",
        "figure, axis = plt.subplots(1,3)\n",
        "axis[1].imshow(ideal_lp_filter_img, cmap='gray')\n",
        "axis[2].imshow(g_lp_filter_img, cmap='gray')\n",
        "axis[0].imshow(image, cmap='gray')\n"
      ],
      "metadata": {
        "colab": {
          "base_uri": "https://localhost:8080/",
          "height": 227
        },
        "id": "AyLsdhuSmsnJ",
        "outputId": "4a98a042-f1ab-494f-bd38-2269a2f069a4"
      },
      "execution_count": 8,
      "outputs": [
        {
          "output_type": "execute_result",
          "data": {
            "text/plain": [
              "<matplotlib.image.AxesImage at 0x7a0e6db41810>"
            ]
          },
          "metadata": {},
          "execution_count": 8
        },
        {
          "output_type": "display_data",
          "data": {
            "text/plain": [
              "<Figure size 640x480 with 3 Axes>"
            ],
            "image/png": "[encoded data removed]"
          },
          "metadata": {}
        }
      ]
    },
    {
      "cell_type": "code",
      "source": [
        "#ideal high pass\n",
        "def ideal_hp_filter(image, t):\n",
        "  s1 = center_img(image)\n",
        "  s2 = np.fft.fft(s1)\n",
        "  huv = np.zeros(s2.shape)\n",
        "  for i in range(s2.shape[0]):\n",
        "    for j in range(s2.shape[1]):\n",
        "      huv[i,j] = (math.sqrt(math.pow(i-s2.shape[0]/2, 2) + math.pow(j-s2.shape[1]/2, 2)) > t)\n",
        "  s3 = s2*huv\n",
        "  s4= np.fft.ifft(s3).real\n",
        "  s5 = center_img(s4)\n",
        "  return s5\n",
        "\n",
        "def gauss_hp_filter(image, t):\n",
        "  s1 = center_img(image)\n",
        "  s2 = np.fft.fft(s1)\n",
        "  huv = np.zeros(s2.shape)\n",
        "  for i in range(s2.shape[0]):\n",
        "    for j in range(s2.shape[1]):\n",
        "      huv[i,j] = np.exp(-2*(math.pow(i-s2.shape[0]/2, 2) + math.pow(j-s2.shape[1]/2, 2)) / math.pow(t,2))\n",
        "  s3 = s2*huv\n",
        "  s4 = np.fft.ifft(s3).real\n",
        "  s5= center_img(s4)\n",
        "  return s5\n",
        "\n",
        "g_hp_filter_img = gauss_hp_filter(image, 10)\n",
        "ideal_hp_filter_img=ideal_hp_filter(image, 10)\n",
        "\n",
        "figure, axis = plt.subplots(1,3)\n",
        "axis[1].imshow(ideal_hp_filter_img, cmap='gray')\n",
        "axis[2].imshow(g_hp_filter_img, cmap='gray')\n",
        "axis[0].imshow(image, cmap='gray')"
      ],
      "metadata": {
        "colab": {
          "base_uri": "https://localhost:8080/",
          "height": 227
        },
        "id": "_kLIryh2l7R1",
        "outputId": "ccbe46ff-4dc7-4ef8-eec7-d2146325c7e9"
      },
      "execution_count": 9,
      "outputs": [
        {
          "output_type": "execute_result",
          "data": {
            "text/plain": [
              "<matplotlib.image.AxesImage at 0x7a0e6d8637f0>"
            ]
          },
          "metadata": {},
          "execution_count": 9
        },
        {
          "output_type": "display_data",
          "data": {
            "text/plain": [
              "<Figure size 640x480 with 3 Axes>"
            ],
            "image/png": "[encoded data removed]"
          },
          "metadata": {}
        }
      ]
    },
    {
      "cell_type": "code",
      "source": [],
      "metadata": {
        "id": "xGgnfZC2mfsy"
      },
      "execution_count": null,
      "outputs": []
    }
  ]
}