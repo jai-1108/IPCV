{
  "nbformat": 4,
  "nbformat_minor": 0,
  "metadata": {
    "colab": {
      "provenance": []
    },
    "kernelspec": {
      "name": "python3",
      "display_name": "Python 3"
    },
    "language_info": {
      "name": "python"
    }
  },
  "cells": [
    {
      "cell_type": "code",
      "execution_count": 1,
      "metadata": {
        "id": "6DeEH_IazzQI"
      },
      "outputs": [],
      "source": [
        "import cv2\n",
        "from google.colab.patches import cv2_imshow\n",
        "import matplotlib.pyplot as plt\n",
        "import numpy as np\n",
        "import matplotlib.pyplot as plt\n",
        "import seaborn as sns\n",
        "import matplotlib.image as img\n",
        "import keras\n",
        "import math"
      ]
    },
    {
      "cell_type": "code",
      "source": [
        "from keras.datasets import mnist\n",
        "(x_train, y_train),(x_test, y_test) = keras.datasets.mnist.load_data()\n",
        "idx=np.random.randint(0,60000)\n",
        "image=x_train[idx]\n",
        "plt.imshow(image, cmap='gray')"
      ],
      "metadata": {
        "colab": {
          "base_uri": "https://localhost:8080/",
          "height": 484
        },
        "id": "bGVb1OS9z9gu",
        "outputId": "200e98b2-490b-4730-e777-dd51bc7c917d"
      },
      "execution_count": 2,
      "outputs": [
        {
          "output_type": "stream",
          "name": "stdout",
          "text": [
            "Downloading data from https://storage.googleapis.com/tensorflow/tf-keras-datasets/mnist.npz\n",
            "11490434/11490434 [==============================] - 0s 0us/step\n"
          ]
        },
        {
          "output_type": "execute_result",
          "data": {
            "text/plain": [
              "<matplotlib.image.AxesImage at 0x7f6b587806d0>"
            ]
          },
          "metadata": {},
          "execution_count": 2
        },
        {
          "output_type": "display_data",
          "data": {
            "text/plain": [
              "<Figure size 640x480 with 1 Axes>"
            ],
            "image/png": "[encoded data removed]"
          },
          "metadata": {}
        }
      ]
    },
    {
      "cell_type": "code",
      "source": [
        "def erosion(image,mask):\n",
        "    eroded_image=np.zeros_like(image)\n",
        "    row_pad=mask.shape[0]//2\n",
        "    col_pad=mask.shape[1]//2\n",
        "    padded_image=np.pad(image,((row_pad,row_pad),(col_pad,col_pad)))\n",
        "    kernel_mask=(mask==1)\n",
        "    for i in range(image.shape[0]):\n",
        "        for j in range(image.shape[1]):\n",
        "            sub_array = padded_image[i:i + mask.shape[0], j:j + mask.shape[1]]\n",
        "            if np.all(sub_array[kernel_mask]):\n",
        "                eroded_image[i, j] = 1\n",
        "    return eroded_image"
      ],
      "metadata": {
        "id": "p07Jzz060M4f"
      },
      "execution_count": 3,
      "outputs": []
    },
    {
      "cell_type": "code",
      "source": [
        "def dilation(image, mask):\n",
        "  row_pad = mask.shape[0]//2\n",
        "  col_pad = mask.shape[1]//2\n",
        "  dilated_img = np.zeros(image.shape)\n",
        "  padded_img = np.pad(image, ((row_pad, row_pad), (col_pad, col_pad)))\n",
        "  kernel = (mask==1)\n",
        "  for i in range(image.shape[0]):\n",
        "    for j in range(image.shape[1]):\n",
        "      sub_array = padded_img[i:i+mask.shape[0], j:j+mask.shape[1]]\n",
        "      if(np.any(sub_array[kernel])):\n",
        "        dilated_img[i,j] = 1\n",
        "  return dilated_img\n",
        "\n"
      ],
      "metadata": {
        "id": "5GQmzMhX0QSb"
      },
      "execution_count": 4,
      "outputs": []
    },
    {
      "cell_type": "code",
      "source": [
        "def opening(image,mask):\n",
        "    return dilation(erosion(image,mask),mask)\n",
        "\n",
        "def closing(image, mask):\n",
        "  return erosion(dilation(image, mask), mask)"
      ],
      "metadata": {
        "id": "4730ingD0Tp2"
      },
      "execution_count": 5,
      "outputs": []
    },
    {
      "cell_type": "code",
      "source": [
        "figure, axis = plt.subplots(1,5)\n",
        "\n",
        "binary_image = np.where(image>128, 1,0)\n",
        "\n",
        "eroded_img = erosion(binary_image, np.array([[0,1,0],[1,1,1],[0,1,0]]))\n",
        "axis[1].imshow(eroded_img, cmap='gray')\n",
        "dilated_img = dilation(binary_image,  np.array([[0,1,0],[1,1,1],[0,1,0]]))\n",
        "axis[2].imshow(dilated_img, cmap='gray')\n",
        "close=closing(binary_image, np.array([[0,1,0],[1,1,1],[0,1,0]]))\n",
        "axis[3].imshow(close, cmap='gray')\n",
        "open = opening(binary_image, np.array([[0,1,0],[1,1,1],[0,1,0]]))\n",
        "axis[4].imshow(open, cmap='gray')\n",
        "axis[0].imshow(binary_image, cmap='gray')\n",
        "plt.show()"
      ],
      "metadata": {
        "colab": {
          "base_uri": "https://localhost:8080/",
          "height": 150
        },
        "id": "z9Y8lDbb0YM3",
        "outputId": "f0d28336-2da6-4ae0-a28b-ba67e62c05ab"
      },
      "execution_count": 6,
      "outputs": [
        {
          "output_type": "display_data",
          "data": {
            "text/plain": [
              "<Figure size 640x480 with 5 Axes>"
            ],
            "image/png": "[encoded data removed]"
          },
          "metadata": {}
        }
      ]
    },
    {
      "cell_type": "code",
      "source": [
        "def hmt(image, b1, b2):\n",
        "  image_c = np.where(image==0, 1, 0)\n",
        "  hmt = np.bitwise_and(erosion(image, b1), erosion(image_c, b2))\n",
        "  return hmt\n",
        "\n",
        "hmt = hmt(binary_image, np.array([[1,1,1],[0,1,0],[0,1,0]]),np.array([[0,0,0],[0,0,-1],[0,0,-1]]))\n",
        "plt.imshow(hmt, cmap='gray')"
      ],
      "metadata": {
        "colab": {
          "base_uri": "https://localhost:8080/",
          "height": 448
        },
        "id": "mET_nlGX0bnf",
        "outputId": "cf600072-4cd0-4c66-cf41-29bdbd43d2ae"
      },
      "execution_count": 7,
      "outputs": [
        {
          "output_type": "execute_result",
          "data": {
            "text/plain": [
              "<matplotlib.image.AxesImage at 0x7f6b53075e10>"
            ]
          },
          "metadata": {},
          "execution_count": 7
        },
        {
          "output_type": "display_data",
          "data": {
            "text/plain": [
              "<Figure size 640x480 with 1 Axes>"
            ],
            "image/png": "[encoded data removed]"
          },
          "metadata": {}
        }
      ]
    },
    {
      "cell_type": "code",
      "source": [],
      "metadata": {
        "id": "aRZqoR9e0i7q"
      },
      "execution_count": null,
      "outputs": []
    }
  ]
}